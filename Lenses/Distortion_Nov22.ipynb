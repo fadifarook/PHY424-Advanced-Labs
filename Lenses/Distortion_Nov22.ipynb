{
 "cells": [
  {
   "cell_type": "code",
   "execution_count": 3,
   "metadata": {},
   "outputs": [],
   "source": [
    "import numpy as np\n",
    "import matplotlib.pyplot as plt\n",
    "\n",
    "# Nov 22 measurements"
   ]
  },
  {
   "cell_type": "code",
   "execution_count": 6,
   "metadata": {},
   "outputs": [],
   "source": [
    "first = np.array([1.4, 1.512, 1.652, 1.66])\n",
    "ufirst = np.array([0.1, 0.02, 0.03, 0.04])\n",
    "\n",
    "second = np.array([1.8, 1.59, 1.632, 1.663, 1.942, 1.995, 2.699, 2.7, 3.66])\n",
    "\n",
    "usecond = np.array([0.1, 0.02, 0.11, 0.06, 0.05, 0.06, 0.08, 0.1, 0.02])\n",
    "\n",
    "third = np.array([1.677, 1.495, 1.559, 1.589, 1.766, 2.554])\n",
    "\n",
    "uthird = np.array([0.03, 0.05, 0.05, 0.04, 0.09, 0.2])\n",
    "\n",
    "fourth = np.array([1.772, 1.64, 1.559, 1.811])\n",
    "ufourth = np.array([0.04, 0.04, 0.08, 0.02])"
   ]
  },
  {
   "cell_type": "code",
   "execution_count": 8,
   "metadata": {},
   "outputs": [],
   "source": [
    "fifth = np.array([1.5, 1.56, 1.59, 1.61, 1.87])\n",
    "ufifth = np.array([0.05, 0.03, 0.06, 0.08, 0.06])\n",
    "\n",
    "sixth = np.array([1.583, 1.56, 1.45, 1.71, 1.8, 2.17, 2.17, 2.24])\n",
    "usixth = np.array([0.03, 0.03, 0.05, 0.08, 0.03, 0.04, 0.07, 0.06])\n",
    "\n",
    "seventh = np.array([1.912, 1.734, 1.91, 2.1, 2.11])\n",
    "\n",
    "useventh = np.array([0.11, 0.01, 0.02, 0.1, 0.09])"
   ]
  },
  {
   "cell_type": "code",
   "execution_count": null,
   "metadata": {},
   "outputs": [],
   "source": [
    "eighth = np.array([1.83, 1.84, 1.83, 1.93, 2.07, 2.47, 2.42, 2.79])\n",
    "\n",
    "ueighth = np.array([0.09, 0.1, 0.07, 0.04, 0.03, 0.04, 0.07, 0.06])\n",
    "\n",
    "ninth = np.array([1.877, 1.936, 2.02, 2.1])\n",
    "unnth = np.array([0.09, 0.06, 0.06, 0.1])\n",
    "\n",
    "\n",
    "idea1 = np.array([1.75, 1.629, 1.69, 1.744])\n",
    "uidea1 = np.array([0.03, 0.02, 0.05, 0.04])\n",
    "\n",
    "idea2 = np.array([1.54, 1.45, 1.515, 1.52])\n",
    "uidea2 = np.array([0.03, 0.05, 0.05, 0.02])\n",
    "\n",
    "\n",
    "discover = np.array([1.718, 1.66, 1.663, 1.58, 1.52, 1.448])\n",
    "udiscover = np.array([0.08, 0.04, 0.01, 0.06, 0.08, 0.04])"
   ]
  }
 ],
 "metadata": {
  "kernelspec": {
   "display_name": ".venv",
   "language": "python",
   "name": "python3"
  },
  "language_info": {
   "codemirror_mode": {
    "name": "ipython",
    "version": 3
   },
   "file_extension": ".py",
   "mimetype": "text/x-python",
   "name": "python",
   "nbconvert_exporter": "python",
   "pygments_lexer": "ipython3",
   "version": "3.12.3"
  }
 },
 "nbformat": 4,
 "nbformat_minor": 2
}
