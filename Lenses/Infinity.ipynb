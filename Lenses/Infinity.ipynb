{
 "cells": [
  {
   "cell_type": "code",
   "execution_count": 15,
   "metadata": {},
   "outputs": [],
   "source": [
    "import numpy as np\n",
    "import matplotlib.pyplot as plt\n",
    "from scipy.interpolate import UnivariateSpline\n",
    "from scipy.optimize import curve_fit"
   ]
  },
  {
   "cell_type": "code",
   "execution_count": 49,
   "metadata": {},
   "outputs": [],
   "source": [
    "# Code for finding the focus at infinity by extrapolating\n",
    "\n",
    "a = np.array([31.9, 31.7, 32])\n",
    "\n",
    "apos = np.array([56.1, 56.2, 56.1])\n",
    "b = np.array(\n",
    "    [\n",
    "        20.1,\n",
    "        20.2,\n",
    "        20.2,\n",
    "    ]\n",
    ")\n",
    "bpos = np.array([74.1, 74.1, 74.15])\n",
    "\n",
    "c = np.array([16.6, 16.7, 16.8])\n",
    "cpos = np.array([94.1, 94.1, 94.2])\n",
    "\n",
    "d = np.array([15.25, 15.2, 15.3])\n",
    "dpos = np.array([114.1, 114.1, 114.2])\n",
    "\n",
    "e = np.array([14.1, 14.1, 14.2])\n",
    "epos = np.array([134.1, 134.1, 134.2])\n",
    "\n",
    "f = np.array([14.1, 13.9, 14])\n",
    "fpos = np.array([154.1, 154.1, 154.2])\n",
    "\n",
    "g = np.array([13.7, 13.6, 13.7])\n",
    "gpos = np.array([173.1, 173.1, 173.2])"
   ]
  },
  {
   "cell_type": "code",
   "execution_count": 51,
   "metadata": {},
   "outputs": [
    {
     "data": {
      "text/plain": [
       "<matplotlib.lines.Line2D at 0x75aa9e9ba090>"
      ]
     },
     "execution_count": 51,
     "metadata": {},
     "output_type": "execute_result"
    },
    {
     "data": {
      "image/png": "[encoded data removed]",
      "text/plain": [
       "<Figure size 640x480 with 1 Axes>"
      ]
     },
     "metadata": {},
     "output_type": "display_data"
    }
   ],
   "source": [
    "focus_mean = (\n",
    "    np.array([a.mean(), b.mean(), c.mean(), d.mean(), e.mean(), f.mean(), g.mean()])\n",
    "    + 2.9995\n",
    ")\n",
    "focus_std = np.array([a.std(), b.std(), c.std(), d.std(), e.std(), f.std(), g.std()])\n",
    "\n",
    "pos_mean = (\n",
    "    np.array(\n",
    "        [\n",
    "            apos.mean(),\n",
    "            bpos.mean(),\n",
    "            cpos.mean(),\n",
    "            dpos.mean(),\n",
    "            epos.mean(),\n",
    "            fpos.mean(),\n",
    "            gpos.mean(),\n",
    "        ]\n",
    "    )\n",
    "    + 5.9995\n",
    ")  # offset, obj + lens\n",
    "pos_std = np.array(\n",
    "    [apos.std(), bpos.std(), cpos.std(), dpos.std(), epos.std(), fpos.std(), gpos.std()]\n",
    ")\n",
    "\n",
    "plt.errorbar(pos_mean, focus_mean, yerr=focus_std, xerr=pos_std, fmt=\"o\")\n",
    "plt.axhline(17.13, color=\"gray\", linestyle=\"--\")"
   ]
  },
  {
   "cell_type": "code",
   "execution_count": null,
   "metadata": {},
   "outputs": [],
   "source": []
  },
  {
   "cell_type": "code",
   "execution_count": null,
   "metadata": {},
   "outputs": [],
   "source": []
  },
  {
   "cell_type": "code",
   "execution_count": null,
   "metadata": {},
   "outputs": [],
   "source": []
  }
 ],
 "metadata": {
  "kernelspec": {
   "display_name": ".venv",
   "language": "python",
   "name": "python3"
  },
  "language_info": {
   "codemirror_mode": {
    "name": "ipython",
    "version": 3
   },
   "file_extension": ".py",
   "mimetype": "text/x-python",
   "name": "python",
   "nbconvert_exporter": "python",
   "pygments_lexer": "ipython3",
   "version": "3.12.3"
  }
 },
 "nbformat": 4,
 "nbformat_minor": 2
}
