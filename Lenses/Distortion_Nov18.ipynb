{
 "cells": [
  {
   "cell_type": "code",
   "execution_count": 4,
   "metadata": {},
   "outputs": [],
   "source": [
    "import numpy as np\n",
    "import matplotlib as plt\n",
    "\n",
    "# Monday Data"
   ]
  },
  {
   "cell_type": "code",
   "execution_count": null,
   "metadata": {},
   "outputs": [],
   "source": [
    "# Changing Aperture size\n",
    "first = np.array([1.95, 2.12, 2.03, 2.05, 1.95, 2.17])\n",
    "ufirst = np.array([0.01, 0.03, 0.05, 0.04, 0.03, 0.06])\n",
    "\n",
    "second = np.array([2.01, 2.16, 2.01, 2.01, 2.03, 2.12, 2.22, 2.26, 2.7])\n",
    "usecond = np.array([0.06, 0.02, 0.05, 0.05, 0.01, 0.01, 0.03, 0.04, 0.1])\n",
    "\n",
    "third = np.array([2.03, 2.16, 2.06, 2.01, 1.96, 2.17, 2.2, 2.26, 2.62])\n",
    "\n",
    "uthird = np.array([0.03, 0.01, 0.02, 0.05, 0.02, 0.08, 0.03, 0.02, 0.02])"
   ]
  },
  {
   "cell_type": "code",
   "execution_count": 6,
   "metadata": {},
   "outputs": [],
   "source": [
    "# Changing aperture position\n",
    "\n",
    "first = np.array([2, 2.12, 2.07, 2.07])\n",
    "ufirst = np.array([0.07, 0.01, 0.03, 0.04])\n",
    "\n",
    "second = np.array([2.06, 2.15, 2.05, 2.05, 1.95, 2.12, 2.23, 2.28])\n",
    "usecond = np.array([0.03, 0.04, 0.01, 0.06, 0.05, 0.04, 0.04, 0.04])\n",
    "\n",
    "third = np.array([2.11, 2.08, 2.13, 2.04, 1.96, 2.12, 2.21, 2.29, 2.59])\n",
    "\n",
    "uthird = np.array([0.02, 0.01, 0.03, 0.03, 0.06, 0.02, 0.04, 0.01, 0.01])\n",
    "\n",
    "barrel = np.array([0.74, 0.63, 0.66, 0.66, 0.56])\n",
    "ubarrel = np.array([0.05, 0.02, 0.02, 0.01, 0.02])"
   ]
  },
  {
   "cell_type": "code",
   "execution_count": null,
   "metadata": {},
   "outputs": [],
   "source": []
  }
 ],
 "metadata": {
  "kernelspec": {
   "display_name": ".venv",
   "language": "python",
   "name": "python3"
  },
  "language_info": {
   "codemirror_mode": {
    "name": "ipython",
    "version": 3
   },
   "file_extension": ".py",
   "mimetype": "text/x-python",
   "name": "python",
   "nbconvert_exporter": "python",
   "pygments_lexer": "ipython3",
   "version": "3.12.3"
  }
 },
 "nbformat": 4,
 "nbformat_minor": 2
}
