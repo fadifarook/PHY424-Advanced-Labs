{
 "cells": [
  {
   "cell_type": "code",
   "execution_count": 1,
   "metadata": {},
   "outputs": [],
   "source": [
    "import numpy as np \n",
    "import matplotlib.pyplot as plt \n"
   ]
  },
  {
   "cell_type": "code",
   "execution_count": 2,
   "metadata": {},
   "outputs": [],
   "source": [
    "# Manually collected mean for transmission analysis\n",
    "rear = np.array([4.87, 4.38, 4.62, 4.72, 4.74, 4.09, 3.98, 4.46, 4.25, 4.51])\n",
    "front = np.array([261, 266, 2.61, 279, 272, 268, 276, 278, 261, 267]) * 1e-3"
   ]
  },
  {
   "cell_type": "code",
   "execution_count": 3,
   "metadata": {},
   "outputs": [
    {
     "name": "stdout",
     "output_type": "stream",
     "text": [
      "Rear: Voltage = 4.462 +- 0.27567372018384345\n",
      "Front: Voltage = 0.24306100000000003 +- 0.08038427389110385\n"
     ]
    }
   ],
   "source": [
    "# Find the mean and standard deviation of each\n",
    "mean_rear, std_rear = np.mean(rear), np.std(rear)\n",
    "mean_front, std_front = np.mean(front), np.std(front)\n",
    "\n",
    "print(f\"Rear: Voltage = {mean_rear} +- {std_rear}\")\n",
    "print(f\"Front: Voltage = {mean_front} +- {std_front}\")"
   ]
  },
  {
   "cell_type": "code",
   "execution_count": 4,
   "metadata": {},
   "outputs": [
    {
     "name": "stdout",
     "output_type": "stream",
     "text": [
      "Rear Real Voltage = 297.46666666666664 +- 18.37824801225623 to 405.63636363636357 +- 25.06124728944031\n"
     ]
    }
   ],
   "source": [
    "realVoltageRear1 = mean_rear * 100 / 1.1\n",
    "uncertainty1 = std_rear * 100 / 1.1\n",
    "realVoltageRear2 = mean_rear * 100 / 1.5\n",
    "uncertainty2 = std_rear * 100 / 1.5\n",
    "\n",
    "print(f\"Rear Real Voltage = {realVoltageRear2} +- {uncertainty2} to {realVoltageRear1} +- {uncertainty1}\")"
   ]
  },
  {
   "cell_type": "code",
   "execution_count": 5,
   "metadata": {},
   "outputs": [
    {
     "name": "stdout",
     "output_type": "stream",
     "text": [
      "Front Real Voltage = 243.06100000000004 +- 80.38427389110385\n"
     ]
    }
   ],
   "source": [
    "realVoltageFront = mean_front * 100 / 0.1\n",
    "uncertainty = std_front * 100 / 0.1\n",
    "print(f\"Front Real Voltage = {realVoltageFront} +- {uncertainty}\")"
   ]
  },
  {
   "cell_type": "code",
   "execution_count": 6,
   "metadata": {},
   "outputs": [
    {
     "name": "stdout",
     "output_type": "stream",
     "text": [
      "0.054473554459883465 +- 0.018326968304817497\n"
     ]
    }
   ],
   "source": [
    "ratio = mean_rear/mean_front\n",
    "ratio = 1/ratio\n",
    "uncertainty = ratio * np.sqrt((std_front/mean_front)**2 + (std_rear/mean_rear)**2)\n",
    "print(ratio, '+-', uncertainty)"
   ]
  }
 ],
 "metadata": {
  "kernelspec": {
   "display_name": ".venv",
   "language": "python",
   "name": "python3"
  },
  "language_info": {
   "codemirror_mode": {
    "name": "ipython",
    "version": 3
   },
   "file_extension": ".py",
   "mimetype": "text/x-python",
   "name": "python",
   "nbconvert_exporter": "python",
   "pygments_lexer": "ipython3",
   "version": "3.12.3"
  }
 },
 "nbformat": 4,
 "nbformat_minor": 2
}
